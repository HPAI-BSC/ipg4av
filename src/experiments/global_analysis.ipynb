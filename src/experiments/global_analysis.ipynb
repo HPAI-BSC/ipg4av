{
 "cells": [
  {
   "cell_type": "markdown",
   "metadata": {},
   "source": [
    "# Global Intentions"
   ]
  },
  {
   "cell_type": "markdown",
   "metadata": {},
   "source": [
    "### Imports"
   ]
  },
  {
   "cell_type": "code",
   "execution_count": null,
   "metadata": {},
   "outputs": [],
   "source": [
    "import os\n",
    "import sys\n",
    "#Add project root to sys.path\n",
    "sys.path.append(os.path.abspath(\"..\"))"
   ]
  },
  {
   "cell_type": "code",
   "execution_count": null,
   "metadata": {},
   "outputs": [],
   "source": [
    "from policy_graph.pg_utils import DATA_ROOT\n",
    "from experiments.desire_config import DESIRE_MAPPING, DesireCategory\n",
    "import pickle\n",
    "from copy import deepcopy\n"
   ]
  },
  {
   "cell_type": "markdown",
   "metadata": {},
   "source": [
    "### Load existing IPG"
   ]
  },
  {
   "cell_type": "code",
   "execution_count": null,
   "metadata": {},
   "outputs": [],
   "source": [
    "ipg_file = 'IPG_nuscenes_trainval_Call_D1b_Wall_Tall_18.pkl'\n",
    "intention_folder = f'{DATA_ROOT}/intentions'\n",
    "\n",
    "with open(f\"{intention_folder}/{ipg_file}\", 'rb') as f:\n",
    "    ipg= pickle.load(f)"
   ]
  },
  {
   "cell_type": "markdown",
   "metadata": {},
   "source": [
    "Load desire defintions"
   ]
  },
  {
   "cell_type": "code",
   "execution_count": null,
   "metadata": {},
   "outputs": [],
   "source": [
    "UNSAFE_DESIRES = {name: desire for name, desire in DESIRE_MAPPING.items()\n",
    "                  if desire.category == DesireCategory.UNSAFE}\n",
    "unsafe_keys = set(UNSAFE_DESIRES.keys())\n"
   ]
  },
  {
   "cell_type": "code",
   "execution_count": null,
   "metadata": {},
   "outputs": [],
   "source": [
    "\n"
   ]
  },
  {
   "cell_type": "markdown",
   "metadata": {},
   "source": [
    "### Safe Desires"
   ]
  },
  {
   "cell_type": "code",
   "execution_count": null,
   "metadata": {},
   "outputs": [],
   "source": [
    "safe_ipg = deepcopy(ipg)\n",
    "\n",
    "safe_ipg.intention = {\n",
    "    node: {d: v for d, v in desires.items() if d.name not in unsafe_keys}\n",
    "    for node, desires in ipg.intention.items()\n",
    "}\n",
    "\n",
    "\n",
    "safe_ipg.desires = [d for d in ipg.desires if d.name not in unsafe_keys]\n"
   ]
  },
  {
   "cell_type": "markdown",
   "metadata": {},
   "source": [
    "Plot intention metrics"
   ]
  },
  {
   "cell_type": "code",
   "execution_count": null,
   "metadata": {},
   "outputs": [],
   "source": []
  },
  {
   "cell_type": "markdown",
   "metadata": {},
   "source": [
    "### Unsafe Desires"
   ]
  },
  {
   "cell_type": "code",
   "execution_count": null,
   "metadata": {},
   "outputs": [],
   "source": [
    "unsafe_ipg = deepcopy(ipg)\n",
    "unsafe_ipg.intention = {\n",
    "    node: {d: v for d, v in desires.items() if d.name in unsafe_keys}\n",
    "    for node, desires in ipg.intention.items()\n",
    "}\n",
    "unsafe_ipg.desires = [d for d in ipg.desires if d.name in unsafe_keys]\n"
   ]
  },
  {
   "cell_type": "markdown",
   "metadata": {},
   "source": [
    "Plot intention metrics"
   ]
  },
  {
   "cell_type": "markdown",
   "metadata": {},
   "source": [
    "### All desires\n"
   ]
  },
  {
   "cell_type": "markdown",
   "metadata": {},
   "source": [
    "Plot intention metrics"
   ]
  }
 ],
 "metadata": {
  "kernelspec": {
   "display_name": "nuplan",
   "language": "python",
   "name": "python3"
  },
  "language_info": {
   "codemirror_mode": {
    "name": "ipython",
    "version": 3
   },
   "file_extension": ".py",
   "mimetype": "text/x-python",
   "name": "python",
   "nbconvert_exporter": "python",
   "pygments_lexer": "ipython3",
   "version": "3.9.20"
  }
 },
 "nbformat": 4,
 "nbformat_minor": 2
}
